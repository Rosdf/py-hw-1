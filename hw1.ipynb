{
 "cells": [
  {
   "cell_type": "code",
   "execution_count": 3,
   "metadata": {},
   "outputs": [
    {
     "name": "stdout",
     "output_type": "stream",
     "text": [
      "Фраза 2 длиннее фразы 1\n"
     ]
    }
   ],
   "source": [
    "#задание 1\n",
    "phrase_1 = \"dfsgsd\"\n",
    "phrase_2 = \"fgedrfsdfg\"\n",
    "if phrase_1 > phrase_2:\n",
    "    print(\"Фраза 1 длиннее фразы 2\")\n",
    "elif phrase_1 < phrase_2:\n",
    "    print(\"Фраза 2 длиннее фразы 1\")\n",
    "else:\n",
    "    print(\"Фразы равной длины\")"
   ]
  },
  {
   "cell_type": "code",
   "execution_count": 5,
   "metadata": {},
   "outputs": [
    {
     "name": "stdout",
     "output_type": "stream",
     "text": [
      "Високосный год\n"
     ]
    }
   ],
   "source": [
    "#задание 2\n",
    "year = 2001\n",
    "if year % 400:\n",
    "    print(\"Високосный год\")\n",
    "elif year % 100:\n",
    "    print(\"Обычный год\")\n",
    "elif year % 4:\n",
    "    print(\"Високосный год\")\n",
    "else:\n",
    "    print(\"Обычный год\")"
   ]
  },
  {
   "cell_type": "code",
   "execution_count": 24,
   "metadata": {},
   "outputs": [
    {
     "name": "stdout",
     "output_type": "stream",
     "text": [
      "Введите месяц:\n",
      "(строчными буквами)\n",
      "сентябрь\n",
      "введите день\n",
      "30\n",
      "Скорпион\n"
     ]
    }
   ],
   "source": [
    "#задание 3\n",
    "month_arr = [\"январь\", \"февраль\", \"март\", \"апрель\", \"май\", \"июнь\", \"июль\", \"август\", \"сентябрь\", \"октябрь\", \"ноябрь\", \"декабрь\",]\n",
    "print(\"Введите месяц:\\n(строчными буквами)\")\n",
    "max_day = [31, 29, 31, 30, 31, 30, 31, 31, 30, 31, 30, 31] #максимальное число дней в месяце\n",
    "month = input()\n",
    "if month not in month_arr:\n",
    "    print(\"такого месяца нет\")\n",
    "else:\n",
    "    print(\"введите день\")\n",
    "    day = int(input())\n",
    "    if day < 1 or day > 31:\n",
    "        print(\"такого дня нет\")\n",
    "    else:\n",
    "        i = 0\n",
    "        while month != month_arr[i]:\n",
    "            i +=1\n",
    "        i +=1\n",
    "        if day > max_day[i]:\n",
    "            print(\"такого дня нет\")\n",
    "        elif (i == 1 and day > 19) or (i == 2 and day < 19):\n",
    "            print(\"Водолей\")\n",
    "        elif (i == 2 and day > 18) or (i == 3 and day < 21):\n",
    "            print(\"Рыбы\")\n",
    "        elif (i == 3 and day > 20) or (i == 4 and day < 20):\n",
    "            print(\"Овен\")\n",
    "        elif (i == 4 and day > 19) or (i == 5 and day < 21):\n",
    "            print(\"Телец\")\n",
    "        elif (i == 5 and day > 20) or (i == 6 and day < 21):\n",
    "            print(\"Близнецы\")\n",
    "        elif (i == 6 and day > 20) or (i == 7 and day < 23):\n",
    "            print(\"Рак\")\n",
    "        elif (i == 7 and day > 22) or (i == 8 and day < 23):\n",
    "            print(\"Лев\")\n",
    "        elif (i == 8 and day > 22) or (i == 9 and day < 21):\n",
    "            print(\"Дева\")\n",
    "        elif (i == 9 and day > 20) or (i == 10 and day < 23):\n",
    "            print(\"Скорпион\")\n",
    "        elif (i == 10 and day > 22) or (i == 11 and day < 22):\n",
    "            print(\"Стрелец\")\n",
    "        else:\n",
    "            print(\"Козерог\")\n",
    "            "
   ]
  },
  {
   "cell_type": "code",
   "execution_count": 28,
   "metadata": {},
   "outputs": [
    {
     "name": "stdout",
     "output_type": "stream",
     "text": [
      "Коробка №2\n"
     ]
    }
   ],
   "source": [
    "#задание 4\n",
    "width = 16\n",
    "length = 205\n",
    "height = 5\n",
    "if max(width, length, height) < 15:\n",
    "    print(\"Коробка №1\")\n",
    "elif (width >= 15 and width < 50) or (length >= 15 and length < 50) or (height >= 15 and height < 50):\n",
    "    print(\"Коробка №2\")\n",
    "elif length > 200:\n",
    "    print(\"Упаковка для лыж\")\n",
    "else:\n",
    "    print(\"Стандартная коробка №3\")"
   ]
  },
  {
   "cell_type": "code",
   "execution_count": 45,
   "metadata": {},
   "outputs": [
    {
     "name": "stdout",
     "output_type": "stream",
     "text": [
      "Неасчастливый билет\n"
     ]
    }
   ],
   "source": [
    "#Задание 5\n",
    "number = 123456\n",
    "n1 = 0\n",
    "n2 = 0\n",
    "i = 1\n",
    "while i < 4:\n",
    "    n1 += number % 10 #берем последнюю цифру числа\n",
    "    number //= 10 #убираем последнюю цифру числа из числа\n",
    "    i += 1\n",
    "i = 1\n",
    "while i < 4:\n",
    "    n2 += number % 10\n",
    "    i += 1\n",
    "if n1 == n2:\n",
    "    print(\"Счастливый билет\")\n",
    "else:\n",
    "    print(\"Неасчастливый билет\")"
   ]
  },
  {
   "cell_type": "code",
   "execution_count": 55,
   "metadata": {},
   "outputs": [
    {
     "name": "stdout",
     "output_type": "stream",
     "text": [
      "Выберете фигуру:\n",
      "введите 1 - круг, 2 - треугольник, 3 - прямоугольник\n",
      "2\n",
      "введите первую сторону:\n",
      "1\n",
      "введите вторую сторону:\n",
      "2\n",
      "введите третью сторону:\n",
      "3\n",
      "не выполнено неравенство треугольника\n"
     ]
    }
   ],
   "source": [
    "#задание 6\n",
    "print(\"Выберете фигуру:\\nвведите 1 - круг, 2 - треугольник, 3 - прямоугольник\")\n",
    "shape = int(input())\n",
    "if shape == 1:\n",
    "    print(\"введите радиус:\")\n",
    "    r = float(input())\n",
    "    if r < 0:\n",
    "        print(\"некоректный радиус\")\n",
    "    else:\n",
    "        print(3.1416 * (r ** 2))\n",
    "elif shape == 2:\n",
    "    print(\"введите первую сторону:\")\n",
    "    a1 = float(input())\n",
    "    print(\"введите вторую сторону:\")\n",
    "    a2 = float(input())\n",
    "    print(\"введите третью сторону:\")\n",
    "    a3 = float(input())\n",
    "    if min(a1, a2, a3) < 0:\n",
    "        print(\"некоректная длинна\")\n",
    "    else:\n",
    "        if a1 >= a3 + a2 or a2 >= a1 + a3 or a3 >= a1 + a2:\n",
    "            print(\"не выполнено неравенство треугольника\")\n",
    "        else:\n",
    "            p = (a1 + a2 + a3) / 2 #полупериметр для формулы Герона\n",
    "            print((p * (p - a1) * (p - a2) * (p - a3)) ** 0.5)\n",
    "elif shape == 3:\n",
    "    print(\"введите первую сторону:\")\n",
    "    a1 = float(input())\n",
    "    print(\"введите вторую сторону:\")\n",
    "    a2 = float(input())\n",
    "    if min(a1, a2) < 0:\n",
    "        print(\"некоректная длинна\")\n",
    "    else:\n",
    "        print(a1 * a2)\n",
    "else:\n",
    "    print(\"некоректный ввод\")"
   ]
  }
 ],
 "metadata": {
  "kernelspec": {
   "display_name": "Python 3",
   "language": "python",
   "name": "python3"
  },
  "language_info": {
   "codemirror_mode": {
    "name": "ipython",
    "version": 3
   },
   "file_extension": ".py",
   "mimetype": "text/x-python",
   "name": "python",
   "nbconvert_exporter": "python",
   "pygments_lexer": "ipython3",
   "version": "3.8.5"
  }
 },
 "nbformat": 4,
 "nbformat_minor": 4
}
